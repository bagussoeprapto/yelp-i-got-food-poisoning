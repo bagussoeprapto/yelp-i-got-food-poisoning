{
 "cells": [
  {
   "cell_type": "code",
   "execution_count": null,
   "metadata": {},
   "outputs": [],
   "source": [
    "#import necessary dependencies\n",
    "import pandas as pd\n",
    "import requests\n",
    "import json\n",
    "from pprint import pprint\n",
    "from urllib.error import HTTPError\n",
    "from urllib.parse import quote\n",
    "from urllib.parse import urlencode\n",
    "import sys\n",
    "import time"
   ]
  },
  {
   "cell_type": "code",
   "execution_count": null,
   "metadata": {},
   "outputs": [],
   "source": [
    "#determine global variables\n",
    "api_key = \"YOUR KEY HERE\"\n",
    "api_host = 'https://api.yelp.com'\n",
    "match_path = '/v3/businesses/matches'\n",
    "detail_path = '/v3/businesses/'\n",
    "detail_list = []"
   ]
  },
  {
   "cell_type": "code",
   "execution_count": null,
   "metadata": {},
   "outputs": [],
   "source": [
    "#use a function to pull the yelp ids\n",
    "def request(host, path, api_key, url_params=None):\n",
    "    \"\"\"Given your API_KEY, send a GET request to the API.\n",
    "    Args:\n",
    "        host (str): The domain host of the API.\n",
    "        path (str): The path of the API after the domain.\n",
    "        API_KEY (str): Your API Key.\n",
    "        url_params (dict): An optional set of query parameters in the request.\n",
    "    Returns:\n",
    "        dict: The JSON response from the request.\n",
    "    Raises:\n",
    "        HTTPError: An error occurs from the HTTP request.\n",
    "    \"\"\"\n",
    "    url_params = url_params or {}\n",
    "    url = '{0}{1}'.format(host, quote(path.encode('utf8')))\n",
    "    headers = {\n",
    "        'Authorization': 'Bearer %s' % api_key,\n",
    "    }\n",
    "\n",
    "    response = requests.request('GET', url, headers=headers, params=url_params)\n",
    "\n",
    "    return response.json()"
   ]
  },
  {
   "cell_type": "code",
   "execution_count": null,
   "metadata": {},
   "outputs": [],
   "source": [
    "#use a function to get the business details\n",
    "def get_business(api_key, business_id):\n",
    "    \"\"\"Query the Business API by a business ID.\n",
    "    Args:\n",
    "        business_id (str): The ID of the business to query.\n",
    "    Returns:\n",
    "        dict: The JSON response from the request.\n",
    "    \"\"\"\n",
    "    business_path = detail_path + business_id\n",
    "\n",
    "    return request(api_host, business_path, api_key)"
   ]
  },
  {
   "cell_type": "code",
   "execution_count": null,
   "metadata": {},
   "outputs": [],
   "source": [
    "#import the csv you plan to search with\n",
    "#MAKE SURE TO CHANGE THIS TO THE CSV YOU NEED TO READ\n",
    "#file name to use: parsed/#la_restaurants.csv (replace # with the file number you are calling)\n",
    "\n",
    "r_target = pd.read_csv('YOUR FILE HERE')\n",
    "total_calls = int(r_target['program_name'].count())"
   ]
  },
  {
   "cell_type": "code",
   "execution_count": null,
   "metadata": {},
   "outputs": [],
   "source": [
    "#iterate over the DataFrame to call the API for each business in the csv\n",
    "for i in r_target.index:\n",
    "    \n",
    "    #display which pull the loop is on in order to track progress\n",
    "    pull = i+1\n",
    "    completed = round((pull/total_calls)*100,1)\n",
    "    sys.stdout.write(f\"\\rCalling {pull} of {total_calls} -- {completed}% complete\")\n",
    "    \n",
    "    \n",
    "    #pull the search criteria for the API\n",
    "    name = r_target.loc[i,'program_name']\n",
    "    add1 = r_target.loc[i,'facility_address']\n",
    "    city = r_target.loc[i,'facility_city']\n",
    "    state = \"CA\"\n",
    "    country = \"US\"\n",
    "    url_params = {'name': name,\n",
    "                 'address1': add1,\n",
    "                 'city': city,\n",
    "                 'state': state,\n",
    "                 'country': country}\n",
    "    \n",
    "    #call the api to find the business\n",
    "    get_id = request(api_host, match_path, api_key, url_params)\n",
    "    \n",
    "    #extract the yelp id for the business, if there is one\n",
    "    try:\n",
    "        if len(get_id['businesses']) > 0:\n",
    "            y_id = get_id['businesses'][0]['id']\n",
    "        else:\n",
    "            y_id = \"none\"\n",
    "    except Exception as e: \n",
    "            y_id = \"key_error\"\n",
    "        \n",
    "       \n",
    "    #if the api found the business, call the api to pull the necessary details\n",
    "    #use the restaurant address as a unqiue identifier so the resulting DataFrame can be merged\n",
    "    if y_id != \"none\" and y_id !=\"key_error\":\n",
    "        detail = get_business(api_key, y_id)\n",
    "        if 'price' in detail:\n",
    "            price = detail['price']\n",
    "        else:\n",
    "            price = \"blank\"\n",
    "            \n",
    "        r_details = {'facility_address': add1,\n",
    "                    'yelp_id': y_id,\n",
    "                    'price': price,\n",
    "                    'rating': detail['rating'],\n",
    "                    'review_count': detail['review_count'],\n",
    "                    'food_type': [d['title'] for d in detail['categories']],\n",
    "                    'latitude': detail['coordinates']['latitude'],\n",
    "                    'longitude': detail['coordinates']['longitude'],\n",
    "                    'in_business': detail['is_closed']}\n",
    "        detail_list.append(r_details)\n",
    "        \n",
    "        #clear the previous status update so the new one may be displayed\n",
    "        sys.stdout.flush()"
   ]
  },
  {
   "cell_type": "code",
   "execution_count": null,
   "metadata": {},
   "outputs": [],
   "source": [
    "#store the yelp id query results in a dataframe\n",
    "details_pd = pd.DataFrame(detail_list)\n",
    "details_pd.head()"
   ]
  },
  {
   "cell_type": "code",
   "execution_count": null,
   "metadata": {},
   "outputs": [],
   "source": [
    "#merge the DataFrames\n",
    "yelp_scrub = r_target.merge(details_pd, on='facility_address')"
   ]
  },
  {
   "cell_type": "code",
   "execution_count": null,
   "metadata": {},
   "outputs": [],
   "source": [
    "#for the love of all things good, save your calls to a csv!\n",
    "#MAKE SURE TO CHANGE THE NUMBER ON THE END TO THE CORRESPONDING NUMBER OF THE CSV YOU INITIALLY READ\n",
    "#file name to use: \"called/la_restaurants_yelped#.csv\" (replace # with the file number you are calling)\n",
    "yelp_scrub.to_csv(\"YOUR FILE HERE\")"
   ]
  },
  {
   "cell_type": "code",
   "execution_count": null,
   "metadata": {},
   "outputs": [],
   "source": []
  }
 ],
 "metadata": {
  "kernelspec": {
   "display_name": "Python [conda env:PythonData]",
   "language": "python",
   "name": "conda-env-PythonData-py"
  },
  "language_info": {
   "codemirror_mode": {
    "name": "ipython",
    "version": 3
   },
   "file_extension": ".py",
   "mimetype": "text/x-python",
   "name": "python",
   "nbconvert_exporter": "python",
   "pygments_lexer": "ipython3",
   "version": "3.6.5"
  }
 },
 "nbformat": 4,
 "nbformat_minor": 2
}
