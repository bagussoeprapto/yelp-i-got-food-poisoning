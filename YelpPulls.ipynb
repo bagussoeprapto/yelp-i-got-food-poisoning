{
 "cells": [
  {
   "cell_type": "code",
   "execution_count": 1,
   "metadata": {},
   "outputs": [],
   "source": [
    "#import necessary dependencies\n",
    "import pandas as pd\n",
    "import requests\n",
    "import json\n",
    "from pprint import pprint\n",
    "from urllib.error import HTTPError\n",
    "from urllib.parse import quote\n",
    "from urllib.parse import urlencode\n",
    "import sys\n",
    "import time"
   ]
  },
  {
   "cell_type": "code",
   "execution_count": 2,
   "metadata": {},
   "outputs": [],
   "source": [
    "#determine global variables\n",
    "api_key = \"YOUR CODE HERE\"\n",
    "api_host = 'https://api.yelp.com'\n",
    "match_path = '/v3/businesses/matches'\n",
    "detail_path = '/v3/businesses/'\n",
    "detail_list = []"
   ]
  },
  {
   "cell_type": "code",
   "execution_count": 3,
   "metadata": {},
   "outputs": [],
   "source": [
    "#use a function to pull the yelp ids\n",
    "def request(host, path, api_key, url_params=None):\n",
    "    \"\"\"Given your API_KEY, send a GET request to the API.\n",
    "    Args:\n",
    "        host (str): The domain host of the API.\n",
    "        path (str): The path of the API after the domain.\n",
    "        API_KEY (str): Your API Key.\n",
    "        url_params (dict): An optional set of query parameters in the request.\n",
    "    Returns:\n",
    "        dict: The JSON response from the request.\n",
    "    Raises:\n",
    "        HTTPError: An error occurs from the HTTP request.\n",
    "    \"\"\"\n",
    "    url_params = url_params or {}\n",
    "    url = '{0}{1}'.format(host, quote(path.encode('utf8')))\n",
    "    headers = {\n",
    "        'Authorization': 'Bearer %s' % api_key,\n",
    "    }\n",
    "\n",
    "    response = requests.request('GET', url, headers=headers, params=url_params)\n",
    "\n",
    "    return response.json()"
   ]
  },
  {
   "cell_type": "code",
   "execution_count": 4,
   "metadata": {},
   "outputs": [],
   "source": [
    "#use a function to get the business details\n",
    "def get_business(api_key, business_id):\n",
    "    \"\"\"Query the Business API by a business ID.\n",
    "    Args:\n",
    "        business_id (str): The ID of the business to query.\n",
    "    Returns:\n",
    "        dict: The JSON response from the request.\n",
    "    \"\"\"\n",
    "    business_path = detail_path + business_id\n",
    "\n",
    "    return request(api_host, business_path, api_key)"
   ]
  },
  {
   "cell_type": "code",
   "execution_count": 5,
   "metadata": {},
   "outputs": [],
   "source": [
    "#import the csv you plan to search with\n",
    "#MAKE SURE TO CHANGE THIS TO THE CSV YOU NEED TO READ\n",
    "#file name to use: parsed/#la_restaurants.csv (replace # with the file number you are calling)\n",
    "\n",
    "r_target = pd.read_csv('YOUR FILE HERE')\n",
    "\n"
   ]
  },
  {
   "cell_type": "code",
   "execution_count": 6,
   "metadata": {},
   "outputs": [
    {
     "name": "stdout",
     "output_type": "stream",
     "text": [
      "2496\n"
     ]
    }
   ],
   "source": [
    "total_calls = int(r_target['program_name'].count())\n",
    "print(total_calls)"
   ]
  },
  {
   "cell_type": "code",
   "execution_count": 7,
   "metadata": {},
   "outputs": [
    {
     "name": "stdout",
     "output_type": "stream",
     "text": [
      "Calling 2500 of 2496 -- 100.2% complete"
     ]
    }
   ],
   "source": [
    "#iterate over the DataFrame to call the API for each business in the csv\n",
    "for i in r_target.index:\n",
    "    \n",
    "    #display which pull the loop is on in order to track progress\n",
    "    pull = i+1\n",
    "    completed = round((pull/total_calls)*100,1)\n",
    "    sys.stdout.write(f\"\\rCalling {pull} of {total_calls} -- {completed}% complete\")\n",
    "    \n",
    "    \n",
    "    #pull the search criteria for the API\n",
    "    name = r_target.loc[i,'program_name']\n",
    "    add1 = r_target.loc[i,'facility_address']\n",
    "    city = r_target.loc[i,'facility_city']\n",
    "    state = \"CA\"\n",
    "    country = \"US\"\n",
    "    url_params = {'name': name,\n",
    "                 'address1': add1,\n",
    "                 'city': city,\n",
    "                 'state': state,\n",
    "                 'country': country}\n",
    "    \n",
    "    #call the api to find the business\n",
    "    get_id = request(api_host, match_path, api_key, url_params)\n",
    "    \n",
    "    #extract the yelp id for the business, if there is one\n",
    "    try:\n",
    "        if len(get_id['businesses']) > 0:\n",
    "            y_id = get_id['businesses'][0]['id']\n",
    "        else:\n",
    "            y_id = \"none\"\n",
    "    except Exception as e: \n",
    "            y_id = \"key_error\"\n",
    "        \n",
    "       \n",
    "    #if the api found the business, call the api to pull the necessary details\n",
    "    #use the restaurant address as a unqiue identifier so the resulting DataFrame can be merged\n",
    "    if y_id != \"none\" and y_id !=\"key_error\":\n",
    "        detail = get_business(api_key, y_id)\n",
    "        if 'price' in detail:\n",
    "            price = detail['price']\n",
    "        else:\n",
    "            price = \"blank\"\n",
    "        if 'rating' in detail:\n",
    "            rating = detail['rating']\n",
    "        else:\n",
    "            rating = \"blank\"\n",
    "        if 'review_count' in detail:\n",
    "            review_count = detail['review_count']\n",
    "        else:\n",
    "            review_count = 'blank'\n",
    "            \n",
    "        r_details = {'facility_address': add1,\n",
    "                    'yelp_id': y_id,\n",
    "                    'price': price,\n",
    "                    'rating': rating,\n",
    "                    'review_count': review_count,\n",
    "                    'food_type': [d['title'] for d in detail['categories']],\n",
    "                    'latitude': detail['coordinates']['latitude'],\n",
    "                    'longitude': detail['coordinates']['longitude'],\n",
    "                    'in_business': detail['is_closed']}\n",
    "        detail_list.append(r_details)\n",
    "        \n",
    "        #clear the previous status update so the new one may be displayed\n",
    "        sys.stdout.flush()"
   ]
  },
  {
   "cell_type": "code",
   "execution_count": 8,
   "metadata": {},
   "outputs": [
    {
     "data": {
      "text/html": [
       "<div>\n",
       "<style scoped>\n",
       "    .dataframe tbody tr th:only-of-type {\n",
       "        vertical-align: middle;\n",
       "    }\n",
       "\n",
       "    .dataframe tbody tr th {\n",
       "        vertical-align: top;\n",
       "    }\n",
       "\n",
       "    .dataframe thead th {\n",
       "        text-align: right;\n",
       "    }\n",
       "</style>\n",
       "<table border=\"1\" class=\"dataframe\">\n",
       "  <thead>\n",
       "    <tr style=\"text-align: right;\">\n",
       "      <th></th>\n",
       "      <th>facility_address</th>\n",
       "      <th>food_type</th>\n",
       "      <th>in_business</th>\n",
       "      <th>latitude</th>\n",
       "      <th>longitude</th>\n",
       "      <th>price</th>\n",
       "      <th>rating</th>\n",
       "      <th>review_count</th>\n",
       "      <th>yelp_id</th>\n",
       "    </tr>\n",
       "  </thead>\n",
       "  <tbody>\n",
       "    <tr>\n",
       "      <th>0</th>\n",
       "      <td>10000 W PICO BLVD</td>\n",
       "      <td>[Country Clubs]</td>\n",
       "      <td>False</td>\n",
       "      <td>34.051907</td>\n",
       "      <td>-118.406990</td>\n",
       "      <td>blank</td>\n",
       "      <td>4.5</td>\n",
       "      <td>17</td>\n",
       "      <td>_9cy8o3ZaRcLSrgv2BZjuA</td>\n",
       "    </tr>\n",
       "    <tr>\n",
       "      <th>1</th>\n",
       "      <td>1760 N HILLHURST AVE</td>\n",
       "      <td>[Breakfast &amp; Brunch, Coffee &amp; Tea, American (N...</td>\n",
       "      <td>False</td>\n",
       "      <td>34.103134</td>\n",
       "      <td>-118.287297</td>\n",
       "      <td>$$</td>\n",
       "      <td>4.0</td>\n",
       "      <td>2433</td>\n",
       "      <td>eoOJbi94rj9277dG7WIv0A</td>\n",
       "    </tr>\n",
       "    <tr>\n",
       "      <th>2</th>\n",
       "      <td>1750 N HILLHURST AVE</td>\n",
       "      <td>[Coffee &amp; Tea, Tapas/Small Plates, Cocktail Bars]</td>\n",
       "      <td>False</td>\n",
       "      <td>34.102836</td>\n",
       "      <td>-118.287373</td>\n",
       "      <td>$$</td>\n",
       "      <td>4.0</td>\n",
       "      <td>260</td>\n",
       "      <td>iYLyVP1uRs56wZ3FK_lCdw</td>\n",
       "    </tr>\n",
       "    <tr>\n",
       "      <th>3</th>\n",
       "      <td>662 N SEPULVEDA BLVD</td>\n",
       "      <td>[American (New), Seafood, Cocktail Bars]</td>\n",
       "      <td>False</td>\n",
       "      <td>34.077310</td>\n",
       "      <td>-118.468819</td>\n",
       "      <td>$$$</td>\n",
       "      <td>4.0</td>\n",
       "      <td>171</td>\n",
       "      <td>7s0s_rBFKPxt2B9xBMmQsw</td>\n",
       "    </tr>\n",
       "    <tr>\n",
       "      <th>4</th>\n",
       "      <td>1700 HILLHURST AVE</td>\n",
       "      <td>[Mediterranean, American (New), Bars]</td>\n",
       "      <td>False</td>\n",
       "      <td>34.101936</td>\n",
       "      <td>-118.287244</td>\n",
       "      <td>$$</td>\n",
       "      <td>3.5</td>\n",
       "      <td>789</td>\n",
       "      <td>_LJ2Ub-G-UBQI9pHQvE-bA</td>\n",
       "    </tr>\n",
       "  </tbody>\n",
       "</table>\n",
       "</div>"
      ],
      "text/plain": [
       "       facility_address                                          food_type  \\\n",
       "0     10000 W PICO BLVD                                    [Country Clubs]   \n",
       "1  1760 N HILLHURST AVE  [Breakfast & Brunch, Coffee & Tea, American (N...   \n",
       "2  1750 N HILLHURST AVE  [Coffee & Tea, Tapas/Small Plates, Cocktail Bars]   \n",
       "3  662 N SEPULVEDA BLVD           [American (New), Seafood, Cocktail Bars]   \n",
       "4    1700 HILLHURST AVE              [Mediterranean, American (New), Bars]   \n",
       "\n",
       "   in_business   latitude   longitude  price  rating  review_count  \\\n",
       "0        False  34.051907 -118.406990  blank     4.5            17   \n",
       "1        False  34.103134 -118.287297     $$     4.0          2433   \n",
       "2        False  34.102836 -118.287373     $$     4.0           260   \n",
       "3        False  34.077310 -118.468819    $$$     4.0           171   \n",
       "4        False  34.101936 -118.287244     $$     3.5           789   \n",
       "\n",
       "                  yelp_id  \n",
       "0  _9cy8o3ZaRcLSrgv2BZjuA  \n",
       "1  eoOJbi94rj9277dG7WIv0A  \n",
       "2  iYLyVP1uRs56wZ3FK_lCdw  \n",
       "3  7s0s_rBFKPxt2B9xBMmQsw  \n",
       "4  _LJ2Ub-G-UBQI9pHQvE-bA  "
      ]
     },
     "execution_count": 8,
     "metadata": {},
     "output_type": "execute_result"
    }
   ],
   "source": [
    "#store the yelp id query results in a dataframe\n",
    "details_pd = pd.DataFrame(detail_list)\n",
    "details_pd.head()"
   ]
  },
  {
   "cell_type": "code",
   "execution_count": 9,
   "metadata": {},
   "outputs": [],
   "source": [
    "#merge the DataFrames\n",
    "yelp_scrub = r_target.merge(details_pd, on='facility_address')"
   ]
  },
  {
   "cell_type": "code",
   "execution_count": 10,
   "metadata": {},
   "outputs": [],
   "source": [
    "#for the love of all things good, save your calls to a csv!\n",
    "#MAKE SURE TO CHANGE THE NUMBER ON THE END TO THE CORRESPONDING NUMBER OF THE CSV YOU INITIALLY READ\n",
    "#file name to use: \"called/la_restaurants_yelped#.csv\" (replace # with the file number you are calling)\n",
    "yelp_scrub.to_csv(\"YOUR FILE HERE\")"
   ]
  },
  {
   "cell_type": "code",
   "execution_count": null,
   "metadata": {},
   "outputs": [],
   "source": []
  }
 ],
 "metadata": {
  "kernelspec": {
   "display_name": "Python [conda env:PythonData]",
   "language": "python",
   "name": "conda-env-PythonData-py"
  },
  "language_info": {
   "codemirror_mode": {
    "name": "ipython",
    "version": 3
   },
   "file_extension": ".py",
   "mimetype": "text/x-python",
   "name": "python",
   "nbconvert_exporter": "python",
   "pygments_lexer": "ipython3",
   "version": "3.6.5"
  }
 },
 "nbformat": 4,
 "nbformat_minor": 2
}
