{
 "cells": [
  {
   "cell_type": "code",
   "execution_count": 1,
   "metadata": {},
   "outputs": [],
   "source": [
    "#import necessary dependencies\n",
    "import pandas as pd\n",
    "import requests\n",
    "import json\n",
    "from pprint import pprint\n",
    "from urllib.error import HTTPError\n",
    "from urllib.parse import quote\n",
    "from urllib.parse import urlencode\n",
    "import sys\n",
    "import time"
   ]
  },
  {
   "cell_type": "code",
   "execution_count": 2,
   "metadata": {},
   "outputs": [],
   "source": [
    "#determine global variables\n",
    "api_key = \"YOUR KEY HERE\"\n",
    "api_host = 'https://api.yelp.com'\n",
    "match_path = '/v3/businesses/matches'\n",
    "detail_path = '/v3/businesses/'\n",
    "detail_list = []"
   ]
  },
  {
   "cell_type": "code",
   "execution_count": 3,
   "metadata": {},
   "outputs": [],
   "source": [
    "#use a function to pull the yelp ids\n",
    "def request(host, path, api_key, url_params=None):\n",
    "    \"\"\"Given your API_KEY, send a GET request to the API.\n",
    "    Args:\n",
    "        host (str): The domain host of the API.\n",
    "        path (str): The path of the API after the domain.\n",
    "        API_KEY (str): Your API Key.\n",
    "        url_params (dict): An optional set of query parameters in the request.\n",
    "    Returns:\n",
    "        dict: The JSON response from the request.\n",
    "    Raises:\n",
    "        HTTPError: An error occurs from the HTTP request.\n",
    "    \"\"\"\n",
    "    url_params = url_params or {}\n",
    "    url = '{0}{1}'.format(host, quote(path.encode('utf8')))\n",
    "    headers = {\n",
    "        'Authorization': 'Bearer %s' % api_key,\n",
    "    }\n",
    "\n",
    "    response = requests.request('GET', url, headers=headers, params=url_params)\n",
    "\n",
    "    return response.json()"
   ]
  },
  {
   "cell_type": "code",
   "execution_count": 4,
   "metadata": {},
   "outputs": [],
   "source": [
    "#use a function to get the business details\n",
    "def get_business(api_key, business_id):\n",
    "    \"\"\"Query the Business API by a business ID.\n",
    "    Args:\n",
    "        business_id (str): The ID of the business to query.\n",
    "    Returns:\n",
    "        dict: The JSON response from the request.\n",
    "    \"\"\"\n",
    "    business_path = detail_path + business_id\n",
    "\n",
    "    return request(api_host, business_path, api_key)"
   ]
  },
  {
   "cell_type": "code",
   "execution_count": 5,
   "metadata": {},
   "outputs": [],
   "source": [
    "#import the csv you plan to search with\n",
    "#MAKE SURE TO CHANGE THIS TO THE CSV YOU NEED TO READ\n",
    "#file name to use: parsed/#la_restaurants.csv (replace # with the file number you are calling)\n",
    "\n",
    "r_target = pd.read_csv('YOUR FILE HERE')\n"
   ]
  },
  {
   "cell_type": "code",
   "execution_count": 6,
   "metadata": {},
   "outputs": [
    {
     "name": "stdout",
     "output_type": "stream",
     "text": [
      "2496\n"
     ]
    }
   ],
   "source": [
    "total_calls = int(r_target['program_name'].count())\n",
    "print(total_calls)"
   ]
  },
  {
   "cell_type": "code",
   "execution_count": 7,
   "metadata": {},
   "outputs": [
    {
     "name": "stdout",
     "output_type": "stream",
     "text": [
      "Calling 2367 of 2496 -- 94.8% complete. 2058 successful calls made!Connection issue. Will resume in 1 minute\n",
      "Calling 2368 of 2496 -- 94.9% complete. 2058 successful calls made!Connection issue. Will resume in 1 minute\n",
      "Calling 2500 of 2496 -- 100.2% complete. 2160 successful calls made!"
     ]
    }
   ],
   "source": [
    "#iterate over the DataFrame to call the API for each business in the csv\n",
    "for i in r_target.index:\n",
    "    \n",
    "    try:\n",
    "    \n",
    "        #display which pull the loop is on in order to track progress\n",
    "        pull = i+1\n",
    "        completed = round((pull/total_calls)*100,1)\n",
    "        call_count = len(detail_list)\n",
    "        sys.stdout.write(f\"\\rCalling {pull} of {total_calls} -- {completed}% complete. {call_count} successful calls made!\")\n",
    "\n",
    "\n",
    "        #pull the search criteria for the API\n",
    "        name = r_target.loc[i,'program_name']\n",
    "        add1 = r_target.loc[i,'facility_address']\n",
    "        city = r_target.loc[i,'facility_city']\n",
    "        state = \"CA\"\n",
    "        country = \"US\"\n",
    "        url_params = {'name': name,\n",
    "                     'address1': add1,\n",
    "                     'city': city,\n",
    "                     'state': state,\n",
    "                     'country': country}\n",
    "\n",
    "        #call the api to find the business\n",
    "        get_id = request(api_host, match_path, api_key, url_params)\n",
    "\n",
    "        #extract the yelp id for the business, if there is one\n",
    "        try:\n",
    "            if len(get_id['businesses']) > 0:\n",
    "                y_id = get_id['businesses'][0]['id']\n",
    "            else:\n",
    "                y_id = \"none\"\n",
    "        except Exception as e: \n",
    "                y_id = \"key_error\"\n",
    "\n",
    "\n",
    "        #if the api found the business, call the api to pull the necessary details\n",
    "        #use the restaurant address as a unqiue identifier so the resulting DataFrame can be merged\n",
    "        if y_id != \"none\" and y_id !=\"key_error\":\n",
    "            detail = get_business(api_key, y_id)\n",
    "            if 'price' in detail:\n",
    "                price = detail['price']\n",
    "            else:\n",
    "                price = \"blank\"\n",
    "            if 'rating' in detail:\n",
    "                rating = detail['rating']\n",
    "            else:\n",
    "                rating = \"blank\"\n",
    "            if 'review_count' in detail:\n",
    "                review_count = detail['review_count']\n",
    "            else:\n",
    "                review_count = 'blank'\n",
    "\n",
    "            r_details = {'facility_address': add1,\n",
    "                        'yelp_id': y_id,\n",
    "                        'price': price,\n",
    "                        'rating': rating,\n",
    "                        'review_count': review_count,\n",
    "                        'food_type': [d['title'] for d in detail['categories']],\n",
    "                        'latitude': detail['coordinates']['latitude'],\n",
    "                        'longitude': detail['coordinates']['longitude'],\n",
    "                        'in_business': detail['is_closed']}\n",
    "            detail_list.append(r_details)\n",
    "\n",
    "            #clear the previous status update so the new one may be displayed\n",
    "            sys.stdout.flush()\n",
    "    except:\n",
    "        time.sleep(60)\n",
    "        print(\"Connection issue. Will resume in 1 minute\")\n",
    "        continue"
   ]
  },
  {
   "cell_type": "code",
   "execution_count": 8,
   "metadata": {},
   "outputs": [
    {
     "name": "stdout",
     "output_type": "stream",
     "text": [
      "2161 successful call(s) were made out of 2496 attempts\n"
     ]
    }
   ],
   "source": [
    "#check to see how many successful calls were made\n",
    "calls = len(detail_list)\n",
    "print(f\"{calls} successful call(s) were made out of {total_calls} attempts\")"
   ]
  },
  {
   "cell_type": "code",
   "execution_count": 9,
   "metadata": {},
   "outputs": [
    {
     "data": {
      "text/html": [
       "<div>\n",
       "<style scoped>\n",
       "    .dataframe tbody tr th:only-of-type {\n",
       "        vertical-align: middle;\n",
       "    }\n",
       "\n",
       "    .dataframe tbody tr th {\n",
       "        vertical-align: top;\n",
       "    }\n",
       "\n",
       "    .dataframe thead th {\n",
       "        text-align: right;\n",
       "    }\n",
       "</style>\n",
       "<table border=\"1\" class=\"dataframe\">\n",
       "  <thead>\n",
       "    <tr style=\"text-align: right;\">\n",
       "      <th></th>\n",
       "      <th>facility_address</th>\n",
       "      <th>food_type</th>\n",
       "      <th>in_business</th>\n",
       "      <th>latitude</th>\n",
       "      <th>longitude</th>\n",
       "      <th>price</th>\n",
       "      <th>rating</th>\n",
       "      <th>review_count</th>\n",
       "      <th>yelp_id</th>\n",
       "    </tr>\n",
       "  </thead>\n",
       "  <tbody>\n",
       "    <tr>\n",
       "      <th>0</th>\n",
       "      <td>5065 HOLLYWOOD BLVD STE 101</td>\n",
       "      <td>[Pizza, Chicken Wings, Sandwiches]</td>\n",
       "      <td>False</td>\n",
       "      <td>34.101952</td>\n",
       "      <td>-118.300061</td>\n",
       "      <td>$$</td>\n",
       "      <td>2.5</td>\n",
       "      <td>66</td>\n",
       "      <td>1rwTaABGIMCZu4GWabu3eQ</td>\n",
       "    </tr>\n",
       "    <tr>\n",
       "      <th>1</th>\n",
       "      <td>755 N VIRGIL AVE</td>\n",
       "      <td>[Farmers Market, Juice Bars &amp; Smoothies, Acai ...</td>\n",
       "      <td>False</td>\n",
       "      <td>34.084860</td>\n",
       "      <td>-118.287047</td>\n",
       "      <td>$$</td>\n",
       "      <td>5.0</td>\n",
       "      <td>44</td>\n",
       "      <td>bUBLRYI_E4WaGm_cAAPxJg</td>\n",
       "    </tr>\n",
       "    <tr>\n",
       "      <th>2</th>\n",
       "      <td>710 N HELIOTROPE DR</td>\n",
       "      <td>[Coffee &amp; Tea]</td>\n",
       "      <td>False</td>\n",
       "      <td>34.084010</td>\n",
       "      <td>-118.294710</td>\n",
       "      <td>$$</td>\n",
       "      <td>4.5</td>\n",
       "      <td>68</td>\n",
       "      <td>pGu8S_rl8duDVAf-T4cLxQ</td>\n",
       "    </tr>\n",
       "    <tr>\n",
       "      <th>3</th>\n",
       "      <td>3501 E WHITTIER BLVD</td>\n",
       "      <td>[Burgers]</td>\n",
       "      <td>False</td>\n",
       "      <td>34.026858</td>\n",
       "      <td>-118.198178</td>\n",
       "      <td>$</td>\n",
       "      <td>1.5</td>\n",
       "      <td>7</td>\n",
       "      <td>wY7PkHUL7Wsf585b0xkg_A</td>\n",
       "    </tr>\n",
       "    <tr>\n",
       "      <th>4</th>\n",
       "      <td>10889 W PICO BLVD</td>\n",
       "      <td>[Thai]</td>\n",
       "      <td>False</td>\n",
       "      <td>34.039924</td>\n",
       "      <td>-118.429446</td>\n",
       "      <td>$$</td>\n",
       "      <td>3.0</td>\n",
       "      <td>287</td>\n",
       "      <td>v1ZE4XOTvGRVfJr6B3K47g</td>\n",
       "    </tr>\n",
       "  </tbody>\n",
       "</table>\n",
       "</div>"
      ],
      "text/plain": [
       "              facility_address  \\\n",
       "0  5065 HOLLYWOOD BLVD STE 101   \n",
       "1             755 N VIRGIL AVE   \n",
       "2          710 N HELIOTROPE DR   \n",
       "3         3501 E WHITTIER BLVD   \n",
       "4            10889 W PICO BLVD   \n",
       "\n",
       "                                           food_type  in_business   latitude  \\\n",
       "0                 [Pizza, Chicken Wings, Sandwiches]        False  34.101952   \n",
       "1  [Farmers Market, Juice Bars & Smoothies, Acai ...        False  34.084860   \n",
       "2                                     [Coffee & Tea]        False  34.084010   \n",
       "3                                          [Burgers]        False  34.026858   \n",
       "4                                             [Thai]        False  34.039924   \n",
       "\n",
       "    longitude price  rating  review_count                 yelp_id  \n",
       "0 -118.300061    $$     2.5            66  1rwTaABGIMCZu4GWabu3eQ  \n",
       "1 -118.287047    $$     5.0            44  bUBLRYI_E4WaGm_cAAPxJg  \n",
       "2 -118.294710    $$     4.5            68  pGu8S_rl8duDVAf-T4cLxQ  \n",
       "3 -118.198178     $     1.5             7  wY7PkHUL7Wsf585b0xkg_A  \n",
       "4 -118.429446    $$     3.0           287  v1ZE4XOTvGRVfJr6B3K47g  "
      ]
     },
     "execution_count": 9,
     "metadata": {},
     "output_type": "execute_result"
    }
   ],
   "source": [
    "#store the yelp id query results in a dataframe\n",
    "details_pd = pd.DataFrame(detail_list)\n",
    "details_pd.head()"
   ]
  },
  {
   "cell_type": "code",
   "execution_count": 10,
   "metadata": {},
   "outputs": [],
   "source": [
    "#merge the DataFrames\n",
    "yelp_scrub = r_target.merge(details_pd, on='facility_address')"
   ]
  },
  {
   "cell_type": "code",
   "execution_count": 11,
   "metadata": {},
   "outputs": [],
   "source": [
    "#for the love of all things good, save your calls to a csv!\n",
    "#MAKE SURE TO CHANGE THE NUMBER ON THE END TO THE CORRESPONDING NUMBER OF THE CSV YOU INITIALLY READ\n",
    "#file name to use: \"called/la_restaurants_yelped#.csv\" (replace # with the file number you are calling)\n",
    "yelp_scrub.to_csv(\"YOUR FILE HERE\")"
   ]
  },
  {
   "cell_type": "code",
   "execution_count": null,
   "metadata": {},
   "outputs": [],
   "source": []
  }
 ],
 "metadata": {
  "kernelspec": {
   "display_name": "Python [conda env:PythonData]",
   "language": "python",
   "name": "conda-env-PythonData-py"
  },
  "language_info": {
   "codemirror_mode": {
    "name": "ipython",
    "version": 3
   },
   "file_extension": ".py",
   "mimetype": "text/x-python",
   "name": "python",
   "nbconvert_exporter": "python",
   "pygments_lexer": "ipython3",
   "version": "3.6.5"
  }
 },
 "nbformat": 4,
 "nbformat_minor": 2
}
