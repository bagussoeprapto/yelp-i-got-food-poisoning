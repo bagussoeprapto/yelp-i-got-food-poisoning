{
 "cells": [
  {
   "cell_type": "markdown",
   "metadata": {},
   "source": [
    "## Google Map API"
   ]
  },
  {
   "cell_type": "code",
   "execution_count": 1,
   "metadata": {},
   "outputs": [],
   "source": [
    "# Import dependencies\n",
    "import gmaps\n",
    "import numpy as np\n",
    "import pandas as pd\n",
    "import requests"
   ]
  },
  {
   "cell_type": "code",
   "execution_count": 2,
   "metadata": {},
   "outputs": [
    {
     "data": {
      "text/plain": [
       "['Unnamed: 0',\n",
       " 'Inspection Date',\n",
       " 'Address',\n",
       " 'City',\n",
       " 'Facility ID',\n",
       " 'Restaurant',\n",
       " 'State',\n",
       " 'Zip',\n",
       " 'Cuisine',\n",
       " 'Grade',\n",
       " 'Active Business',\n",
       " 'Latitude',\n",
       " 'Longitude',\n",
       " 'Type',\n",
       " 'Price',\n",
       " 'Rating',\n",
       " 'Inspection ID',\n",
       " '# of Reviews',\n",
       " 'Score',\n",
       " 'Yelp ID']"
      ]
     },
     "execution_count": 2,
     "metadata": {},
     "output_type": "execute_result"
    }
   ],
   "source": [
    "# Import raw data (i.e., sample data: \"..\\Data (Raw)\\Yelp API\\la_restaurants_yelped5.csv\")\n",
    "raw_data = pd.read_csv(\"..\\Data (Clean)\\clean_data_all_restaurants.csv\", low_memory=False)\n",
    "list(raw_data)"
   ]
  },
  {
   "cell_type": "code",
   "execution_count": 3,
   "metadata": {},
   "outputs": [],
   "source": [
    "# Configure gmaps with API key\n",
    "gmaps.configure(api_key='API KEYS')"
   ]
  },
  {
   "cell_type": "markdown",
   "metadata": {},
   "source": [
    "## Yelp Rating Heatmap"
   ]
  },
  {
   "cell_type": "code",
   "execution_count": 4,
   "metadata": {},
   "outputs": [
    {
     "data": {
      "text/plain": [
       "0    4.5\n",
       "1    4.0\n",
       "2    3.0\n",
       "3    4.0\n",
       "4    3.0\n",
       "Name: Rating, dtype: float64"
      ]
     },
     "execution_count": 4,
     "metadata": {},
     "output_type": "execute_result"
    }
   ],
   "source": [
    "# Store 'Lat' and 'Lng' into  locations \n",
    "locations = raw_data[[\"Latitude\", \"Longitude\"]].astype(float)\n",
    "\n",
    "# Convert 'Rating' to float and store\n",
    "rating = raw_data[\"Rating\"].astype(float)\n",
    "\n",
    "locations = locations.reset_index(drop=True)\n",
    "rating = rating.reset_index(drop=True)\n",
    "rating.head()"
   ]
  },
  {
   "cell_type": "code",
   "execution_count": 5,
   "metadata": {},
   "outputs": [
    {
     "data": {
      "application/vnd.jupyter.widget-view+json": {
       "model_id": "23ab430a2e944205843500c2138e9f26",
       "version_major": 2,
       "version_minor": 0
      },
      "text/plain": [
       "Figure(layout=FigureLayout(height='420px'))"
      ]
     },
     "metadata": {},
     "output_type": "display_data"
    }
   ],
   "source": [
    "# Create rating Heatmap layer\n",
    "fig = gmaps.figure()\n",
    "\n",
    "heat_layer = gmaps.heatmap_layer(locations, weights=rating, \n",
    "                                 dissipating=False, max_intensity=50,\n",
    "                                 point_radius = .005)\n",
    "\n",
    "# Adjust heat_layer setting to help with heatmap dissipating on zoom\n",
    "heat_layer.dissipating = False\n",
    "heat_layer.max_intensity = 50\n",
    "heat_layer.point_radius = .005\n",
    "\n",
    "fig.add_layer(heat_layer)\n",
    "\n",
    "fig"
   ]
  },
  {
   "cell_type": "markdown",
   "metadata": {},
   "source": [
    "## Health Score Heatmap"
   ]
  },
  {
   "cell_type": "code",
   "execution_count": 6,
   "metadata": {},
   "outputs": [
    {
     "data": {
      "text/plain": [
       "0    90.0\n",
       "1    96.0\n",
       "2    90.0\n",
       "3    97.0\n",
       "4    91.0\n",
       "Name: Score, dtype: float64"
      ]
     },
     "execution_count": 6,
     "metadata": {},
     "output_type": "execute_result"
    }
   ],
   "source": [
    "# Convert 'Score' to float and store\n",
    "score = raw_data[\"Score\"].astype(float)\n",
    "\n",
    "score = score.reset_index(drop=True)\n",
    "score.head()"
   ]
  },
  {
   "cell_type": "code",
   "execution_count": 7,
   "metadata": {},
   "outputs": [
    {
     "data": {
      "application/vnd.jupyter.widget-view+json": {
       "model_id": "867a4a387dcb4d58a60f8c6c29d76c0b",
       "version_major": 2,
       "version_minor": 0
      },
      "text/plain": [
       "Figure(layout=FigureLayout(height='420px'))"
      ]
     },
     "metadata": {},
     "output_type": "display_data"
    }
   ],
   "source": [
    "# Create rating Heatmap layer\n",
    "fig = gmaps.figure()\n",
    "\n",
    "heat_layer = gmaps.heatmap_layer(locations, weights=score, \n",
    "                                 dissipating=False, max_intensity=1000,\n",
    "                                 point_radius = .005)\n",
    "\n",
    "# Adjust heat_layer setting to help with heatmap dissipating on zoom\n",
    "heat_layer.dissipating = False\n",
    "heat_layer.max_intensity = 1000\n",
    "heat_layer.point_radius = .005\n",
    "\n",
    "fig.add_layer(heat_layer)\n",
    "\n",
    "fig"
   ]
  },
  {
   "cell_type": "code",
   "execution_count": null,
   "metadata": {},
   "outputs": [],
   "source": []
  }
 ],
 "metadata": {
  "kernelspec": {
   "display_name": "Python 3",
   "language": "python",
   "name": "python3"
  },
  "language_info": {
   "codemirror_mode": {
    "name": "ipython",
    "version": 3
   },
   "file_extension": ".py",
   "mimetype": "text/x-python",
   "name": "python",
   "nbconvert_exporter": "python",
   "pygments_lexer": "ipython3",
   "version": "3.6.5"
  }
 },
 "nbformat": 4,
 "nbformat_minor": 2
}
