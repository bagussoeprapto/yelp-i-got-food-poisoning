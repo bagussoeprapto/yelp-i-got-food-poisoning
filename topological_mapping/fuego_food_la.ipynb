{
 "cells": [
  {
   "cell_type": "code",
   "execution_count": 3,
   "metadata": {},
   "outputs": [],
   "source": [
    "###gmaps heatmap\n",
    "\n",
    "#import dependencies\n",
    "import gmaps\n",
    "import pandas as pd\n",
    "\n",
    "#import keys\n",
    "from config import gmapkey\n",
    "\n",
    "#configure gmaps\n",
    "gmaps.configure(api_key=gmapkey)"
   ]
  },
  {
   "cell_type": "code",
   "execution_count": null,
   "metadata": {},
   "outputs": [],
   "source": [
    "#import cleaned zip_code_df\n"
   ]
  }
 ],
 "metadata": {
  "kernelspec": {
   "display_name": "Python [conda env:PythonData]",
   "language": "python",
   "name": "conda-env-PythonData-py"
  },
  "language_info": {
   "codemirror_mode": {
    "name": "ipython",
    "version": 3
   },
   "file_extension": ".py",
   "mimetype": "text/x-python",
   "name": "python",
   "nbconvert_exporter": "python",
   "pygments_lexer": "ipython3",
   "version": "3.6.5"
  }
 },
 "nbformat": 4,
 "nbformat_minor": 2
}
